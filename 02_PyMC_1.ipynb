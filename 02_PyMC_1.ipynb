{
  "nbformat": 4,
  "nbformat_minor": 0,
  "metadata": {
    "colab": {
      "name": "02_PyMC_1.ipynb",
      "provenance": [],
      "collapsed_sections": [],
      "authorship_tag": "ABX9TyNqTJ0pythxXFh6CxMLSvcj",
      "include_colab_link": true
    },
    "kernelspec": {
      "name": "python3",
      "display_name": "Python 3"
    }
  },
  "cells": [
    {
      "cell_type": "markdown",
      "metadata": {
        "id": "view-in-github",
        "colab_type": "text"
      },
      "source": [
        "<a href=\"https://colab.research.google.com/github/tomonari-masada/course2021-stats2/blob/main/02_PyMC_1.ipynb\" target=\"_parent\"><img src=\"https://colab.research.google.com/assets/colab-badge.svg\" alt=\"Open In Colab\"/></a>"
      ]
    },
    {
      "cell_type": "markdown",
      "metadata": {
        "id": "kPliufI5JIBN"
      },
      "source": [
        "# 2. PyMC3入門 (1)\n",
        "* 今回、PyMC3を解説するに当たっては、PyMC3の公式サイトを参考にした。\n",
        " * https://docs.pymc.io/notebooks/api_quickstart.html"
      ]
    },
    {
      "cell_type": "markdown",
      "metadata": {
        "id": "aAmsZdwhg4tg"
      },
      "source": [
        "## 2.0 準備"
      ]
    },
    {
      "cell_type": "markdown",
      "metadata": {
        "id": "FJx0tbUNM9sF"
      },
      "source": [
        "* arvizはPyMC3用の可視化ツール。"
      ]
    },
    {
      "cell_type": "code",
      "metadata": {
        "id": "L9GnKuyVKdzr"
      },
      "source": [
        "!pip install arviz==0.10\n",
        "!pip install pymc3==3.10"
      ],
      "execution_count": null,
      "outputs": []
    },
    {
      "cell_type": "code",
      "metadata": {
        "id": "w7wrYLCfJm0h"
      },
      "source": [
        "import numpy as np\n",
        "from matplotlib import pyplot as plt\n",
        "from IPython.core.pylabtools import figsize\n",
        "\n",
        "import pymc3 as pm\n",
        "\n",
        "%config InlineBackend.figure_format = 'retina'"
      ],
      "execution_count": null,
      "outputs": []
    },
    {
      "cell_type": "markdown",
      "metadata": {
        "id": "aiIjpNdXFFDK"
      },
      "source": [
        "## 2.1 ベイズ的なデータのモデリング"
      ]
    },
    {
      "cell_type": "markdown",
      "metadata": {
        "id": "jCqtJ-6YYFXp"
      },
      "source": [
        "### 2.1.1 ベイズ的モデリングにおけるベイズ則\n",
        "* 観測データを$X$とする。具体的には同じ次元のベクトルの集まり$X = \\{\\mathbf{x}_1, \\ldots, \\mathbf{x}_N\\}$である。\n",
        "* 観測データをモデル化する確率分布のパラメータを$\\theta$とする。もちろん、パラメータの個数は複数でありうる。\n",
        "* 事後分布は、ベイズ則を使うと以下のように書ける。\n",
        "$$ p(\\theta | X) = \\frac{ p(X | \\theta) p(\\theta) }{ p(X) } $$\n",
        "* ベイズ的モデリングでは、事後分布$p(\\theta | X)$を知ることが目標。\n",
        " * MCMCは、事後分布から得たサンプルを通して、事後分布の姿を知ろうとする。\n",
        " * 変分ベイズ推論は、事後分布を近似する、別の扱いやすい分布を通して、事後分布の姿を知ろうとする。"
      ]
    },
    {
      "cell_type": "markdown",
      "metadata": {
        "id": "VbP57BIQCqmB"
      },
      "source": [
        "### 2.1.2 事後分布を知ることはどのくらい難しいか\n",
        "* 尤度関数$p(X|\\theta)$は、我々がデータをモデル化するのに使う分布を固定すれば、式で書ける。\n",
        "$$ p(X|\\theta) = \\prod_{i=1}^N p(\\mathbf{x}_i | \\theta) $$\n",
        "* 事前分布$p(\\theta)$も、どの分布にするかをよく考える必要はあるが、決めてしまえば、式で書ける。\n",
        "* ということは、$p(X|\\theta)$と$p(\\theta)$の積も、式で書ける。\n",
        "$$ p(X|\\theta) p(\\theta) = p(\\theta) \\prod_{i=1}^N p(\\mathbf{x}_i | \\theta) $$\n",
        "* しかし、この積が式で与えられていることと、事後分布を知っていることとの間には、多くの場合、**とてつもなく大きな隔たり**がある。\n",
        " * つまり、$p(X|\\theta) p(\\theta)$を知っていても、決して$p(\\theta|X)$を知っていることにはならない。\n",
        " * なぜなら、ベイズ則より$p(\\theta|X)=\\frac{ p(X | \\theta) p(\\theta) }{ p(X) }$であり、周辺尤度$p(X)$が分かっていないと、$p(\\theta|X)$は得られないからである。\n",
        " * そして、周辺尤度$p(X)$は、ほとんどの場合、それを計算することが非常に難しいからである。"
      ]
    },
    {
      "cell_type": "markdown",
      "metadata": {
        "id": "6z53xiugJIVI"
      },
      "source": [
        "### 2.1.3 MCMCはベイズ的モデリングだけに使うのではない\n",
        "* MCMCは、$p(X|\\theta) p(\\theta)$しか分からないときに、$p(\\theta|X)$を推定することを可能にしてくれる。\n",
        "* しかし、MCMCは、もっと普遍的に適用可能な手法である。\n",
        "* 普遍性を持たせて言えば、MCMCは、密度関数を規格化する定数が分からないような確率分布について、そこからのサンプリングを可能にしてくれる方法。\n",
        " * 密度関数がそれに比例するところの関数が分かれば、MCMCを使って、対応する分布からのサンプルを得ることができる。\n",
        " * このようなMCMCを、ベイズ的なモデリングでは、事後分布を知ろうとするために使っているだけ。\n",
        "$$ P(\\theta | X) \\propto P(X | \\theta) P(\\theta)$$"
      ]
    },
    {
      "cell_type": "markdown",
      "metadata": {
        "id": "BvfSL43kHhgM"
      },
      "source": [
        "### 2.1.4 確率分布からのサンプリングとは？\n",
        "* 例えば、区間$[0,1)$上に定義された一様分布からサンプリングすることは、どのぐらい難しいことなのだろうか？\n",
        " * 答：全然自明な作業ではない。（cf. [メルセンヌ・ツイスタ](https://ja.wikipedia.org/wiki/%E3%83%A1%E3%83%AB%E3%82%BB%E3%83%B3%E3%83%8C%E3%83%BB%E3%83%84%E3%82%A4%E3%82%B9%E3%82%BF)）\n",
        "* 一様乱数を発生させる乱数発生器をサブルーチンとして使えば、他の分布からのサンプリングも実装できる。\n",
        " * 例：[ボックス＝ミュラー法](https://ja.wikipedia.org/wiki/%E3%83%9C%E3%83%83%E3%82%AF%E3%82%B9%EF%BC%9D%E3%83%9F%E3%83%A5%E3%83%A9%E3%83%BC%E6%B3%95)\n",
        " * 例：[逆関数サンプリング法](https://ja.wikipedia.org/wiki/%E9%80%86%E9%96%A2%E6%95%B0%E6%B3%95)\n",
        "* MCMCは、特定の分布用に作られたサンプリング法ではなく、様々な確率分布からのサンプリングを可能にする、汎用性のある手法である。"
      ]
    },
    {
      "cell_type": "markdown",
      "metadata": {
        "id": "NjyczrNSNaDs"
      },
      "source": [
        "* サンプリングについては、例えば、下記サイトの「Lecture 4 — Sampling」のスライドを参照のこと。\n",
        " * https://uni-tuebingen.de/fakultaeten/mathematisch-naturwissenschaftliche-fakultaet/fachbereiche/informatik/lehrstuehle/methoden-des-maschinellen-lernens/lehre/probabilistic-machine-learning/"
      ]
    },
    {
      "cell_type": "markdown",
      "metadata": {
        "id": "23dp0aRxfnAQ"
      },
      "source": [
        "## 2.2 PyMC3でモデルを作る"
      ]
    },
    {
      "cell_type": "markdown",
      "metadata": {
        "id": "KEiblWBOM0py"
      },
      "source": [
        "### 2.2.1 PyMC3における確率変数"
      ]
    },
    {
      "cell_type": "markdown",
      "metadata": {
        "id": "1CiP2s-6Mw4o"
      },
      "source": [
        "* PyMC3では、いきなり確率変数を作ることはできない。\n",
        " * パラメータが1の指数分布に従う確率変数を作ろうとして、下のセルを（「＃」を外して）実行すると、エラーが出るはず。"
      ]
    },
    {
      "cell_type": "code",
      "metadata": {
        "id": "bG5B1K0bJvRJ"
      },
      "source": [
        "# lambda_ = pm.Exponential(\"poisson_param\", 1)"
      ],
      "execution_count": null,
      "outputs": []
    },
    {
      "cell_type": "markdown",
      "metadata": {
        "id": "pSQesi3dNVd7"
      },
      "source": [
        "* 確率変数は、いきなり作るのではなく、必ずモデルの中で作る。\n",
        " * あらかじめ空のインスタンスを作っておき、「with model:」というブロックを書くか、\n",
        " * いきなり「with pm.Model() as model:」というブロックを書くかの、いずれか。"
      ]
    },
    {
      "cell_type": "code",
      "metadata": {
        "id": "7ipneWn0lGER"
      },
      "source": [
        "model = pm.Model()\n",
        "with model:\n",
        "    lambda_ = pm.Exponential(\"poisson_param\", 1)"
      ],
      "execution_count": null,
      "outputs": []
    },
    {
      "cell_type": "code",
      "metadata": {
        "id": "B36emCanlLHf"
      },
      "source": [
        "with pm.Model() as model:\n",
        "    lambda_ = pm.Exponential(\"poisson_param\", 1)"
      ],
      "execution_count": null,
      "outputs": []
    },
    {
      "cell_type": "markdown",
      "metadata": {
        "id": "4IZsjts-LuXw"
      },
      "source": [
        "* 確率分布が作れたので、いきなりサンプリングしてみることもできる。\n",
        " * これは単に指数分布からのサンプリングで、何かの事後分布からのサンプリングではない。"
      ]
    },
    {
      "cell_type": "code",
      "metadata": {
        "colab": {
          "base_uri": "https://localhost:8080/",
          "height": 185
        },
        "id": "oyi-bmVDK-_Y",
        "outputId": "233cdc1a-0f14-4087-bd69-2b5581564330"
      },
      "source": [
        "with model:\n",
        "    step = pm.Metropolis()\n",
        "    trace = pm.sample(10000, step=step)"
      ],
      "execution_count": null,
      "outputs": [
        {
          "output_type": "stream",
          "text": [
            "/usr/local/lib/python3.7/dist-packages/pymc3/sampling.py:468: FutureWarning: In an upcoming release, pm.sample will return an `arviz.InferenceData` object instead of a `MultiTrace` by default. You can pass return_inferencedata=True or return_inferencedata=False to be safe and silence this warning.\n",
            "  FutureWarning,\n",
            "Sequential sampling (2 chains in 1 job)\n",
            "Metropolis: [poisson_param]\n"
          ],
          "name": "stderr"
        },
        {
          "output_type": "display_data",
          "data": {
            "text/html": [
              "\n",
              "    <div>\n",
              "        <style>\n",
              "            /* Turns off some styling */\n",
              "            progress {\n",
              "                /* gets rid of default border in Firefox and Opera. */\n",
              "                border: none;\n",
              "                /* Needs to be in here for Safari polyfill so background images work as expected. */\n",
              "                background-size: auto;\n",
              "            }\n",
              "            .progress-bar-interrupted, .progress-bar-interrupted::-webkit-progress-bar {\n",
              "                background: #F44336;\n",
              "            }\n",
              "        </style>\n",
              "      <progress value='11000' class='' max='11000' style='width:300px; height:20px; vertical-align: middle;'></progress>\n",
              "      100.00% [11000/11000 00:02<00:00 Sampling chain 0, 0 divergences]\n",
              "    </div>\n",
              "    "
            ],
            "text/plain": [
              "<IPython.core.display.HTML object>"
            ]
          },
          "metadata": {
            "tags": []
          }
        },
        {
          "output_type": "display_data",
          "data": {
            "text/html": [
              "\n",
              "    <div>\n",
              "        <style>\n",
              "            /* Turns off some styling */\n",
              "            progress {\n",
              "                /* gets rid of default border in Firefox and Opera. */\n",
              "                border: none;\n",
              "                /* Needs to be in here for Safari polyfill so background images work as expected. */\n",
              "                background-size: auto;\n",
              "            }\n",
              "            .progress-bar-interrupted, .progress-bar-interrupted::-webkit-progress-bar {\n",
              "                background: #F44336;\n",
              "            }\n",
              "        </style>\n",
              "      <progress value='11000' class='' max='11000' style='width:300px; height:20px; vertical-align: middle;'></progress>\n",
              "      100.00% [11000/11000 00:01<00:00 Sampling chain 1, 0 divergences]\n",
              "    </div>\n",
              "    "
            ],
            "text/plain": [
              "<IPython.core.display.HTML object>"
            ]
          },
          "metadata": {
            "tags": []
          }
        },
        {
          "output_type": "stream",
          "text": [
            "Sampling 2 chains for 1_000 tune and 10_000 draw iterations (2_000 + 20_000 draws total) took 4 seconds.\n",
            "The number of effective samples is smaller than 25% for some parameters.\n"
          ],
          "name": "stderr"
        }
      ]
    },
    {
      "cell_type": "markdown",
      "metadata": {
        "id": "NtQAZgr3L0gy"
      },
      "source": [
        "* ヒストグラムが指数分布の密度関数っぽい形かどうかを見てみる。"
      ]
    },
    {
      "cell_type": "code",
      "metadata": {
        "colab": {
          "base_uri": "https://localhost:8080/",
          "height": 169
        },
        "id": "ckaOMvT3LHPy",
        "outputId": "58784e81-990e-4b85-cc7f-0b8f8888cc53"
      },
      "source": [
        "import arviz as az\n",
        "with model:\n",
        "    az.plot_trace(trace)"
      ],
      "execution_count": null,
      "outputs": [
        {
          "output_type": "display_data",
          "data": {
            "image/png": "[encoded data removed]",
            "text/plain": [
              "<Figure size 864x144 with 2 Axes>"
            ]
          },
          "metadata": {
            "tags": [],
            "image/png": {
              "width": 872,
              "height": 152
            },
            "needs_background": "light"
          }
        }
      ]
    },
    {
      "cell_type": "markdown",
      "metadata": {
        "id": "T5pXZ9FUKwbf"
      },
      "source": [
        "### 2.2.2 観測データのベイズ的なモデリングの例"
      ]
    },
    {
      "cell_type": "markdown",
      "metadata": {
        "id": "zY1s7QeKMARm"
      },
      "source": [
        "* データモデルとして用意したベイズ的な確率モデルを、与えられた観測データに当てはめてみる例を、下に示す。\n",
        "* ベイズ的なモデリングでは、最尤推定やMAP推定のように、モデルのパラメータの値を決め打ちで求めるのではない。\n",
        "* 観測データ$X$を所与とする、パラメータ$\\theta$の条件付き確率分布である、事後分布$P(\\theta|X)$を求める。\n",
        " * 事後分布を求めようとするパラメータ$\\theta$には、事前分布$P(\\theta)$を設定する。"
      ]
    },
    {
      "cell_type": "markdown",
      "metadata": {
        "id": "LsLMByYqSfVj"
      },
      "source": [
        "* 下のモデルは、まず、平均パラメータが0で標準偏差パラメータが1の正規分布に従うunobservedな確率変数muを持っている。\n",
        " * この正規分布は、平均パラメータが従う事前分布。\n",
        "* そして、平均パラメータが確率変数muで標準偏差パラメータが1の正規分布に従うobservedな確率変数obsを持っている。\n",
        " * この正規分布は、データを直接モデリングする確率分布。\n",
        "* さらに、観測データとして、正規乱数として生成した100個の数値を指定している。"
      ]
    },
    {
      "cell_type": "code",
      "metadata": {
        "id": "XV2yhorQMc81"
      },
      "source": [
        "model = pm.Model()\n",
        "with model:\n",
        "    mu = pm.Normal(\"mu\", mu=0, sigma=1)\n",
        "    obs = pm.Normal(\"obs\", mu=mu, sigma=1, observed=np.random.randn(100))"
      ],
      "execution_count": null,
      "outputs": []
    },
    {
      "cell_type": "markdown",
      "metadata": {
        "id": "hyudb0vCi-jp"
      },
      "source": [
        "* いま定義したモデルを数式で書くと・・・\n",
        "$$ \\mu \\sim N(0, 1) $$\n",
        "$$ x \\sim N(\\mu, 1) $$\n"
      ]
    },
    {
      "cell_type": "markdown",
      "metadata": {
        "id": "9E1eeMR4dWOj"
      },
      "source": [
        "* notebook環境でPyMC3を使っているときは、以下のように、確率変数がどんな分布に従うかを簡単に確認できる。"
      ]
    },
    {
      "cell_type": "code",
      "metadata": {
        "colab": {
          "base_uri": "https://localhost:8080/",
          "height": 39
        },
        "id": "IYBPievIdODF",
        "outputId": "7e3b406d-5a0a-4417-c6b1-405681f3a3db"
      },
      "source": [
        "mu"
      ],
      "execution_count": null,
      "outputs": [
        {
          "output_type": "execute_result",
          "data": {
            "text/latex": "$\\text{mu} \\sim \\text{Normal}(\\mathit{mu}=0.0,~\\mathit{sigma}=1.0)$",
            "text/plain": [
              "mu ~ Normal"
            ]
          },
          "metadata": {
            "tags": []
          },
          "execution_count": 9
        }
      ]
    },
    {
      "cell_type": "markdown",
      "metadata": {
        "id": "RDRCiptFjWqQ"
      },
      "source": [
        "* 確率変数には、その名前を使ってアクセスすることもできる。"
      ]
    },
    {
      "cell_type": "code",
      "metadata": {
        "colab": {
          "base_uri": "https://localhost:8080/",
          "height": 39
        },
        "id": "SKqV4YBcTAfa",
        "outputId": "07b77d85-9c89-4923-8f7a-bfb772f3a93e"
      },
      "source": [
        "model.named_vars[\"mu\"]"
      ],
      "execution_count": null,
      "outputs": [
        {
          "output_type": "execute_result",
          "data": {
            "text/latex": "$\\text{mu} \\sim \\text{Normal}(\\mathit{mu}=0.0,~\\mathit{sigma}=1.0)$",
            "text/plain": [
              "mu ~ Normal"
            ]
          },
          "metadata": {
            "tags": []
          },
          "execution_count": 10
        }
      ]
    },
    {
      "cell_type": "code",
      "metadata": {
        "colab": {
          "base_uri": "https://localhost:8080/",
          "height": 39
        },
        "id": "I9z4kN9LdPkh",
        "outputId": "53878761-cb2a-4f71-f500-47846ace4ec8"
      },
      "source": [
        "obs"
      ],
      "execution_count": null,
      "outputs": [
        {
          "output_type": "execute_result",
          "data": {
            "text/latex": "$\\text{obs} \\sim \\text{Normal}(\\mathit{mu}=\\text{mu},~\\mathit{sigma}=1.0)$",
            "text/plain": [
              "obs ~ Normal"
            ]
          },
          "metadata": {
            "tags": []
          },
          "execution_count": 11
        }
      ]
    },
    {
      "cell_type": "code",
      "metadata": {
        "colab": {
          "base_uri": "https://localhost:8080/",
          "height": 39
        },
        "id": "Yxq_0L6hTTHR",
        "outputId": "3dd2d90c-a755-438d-ac51-2f0e88cb5c5b"
      },
      "source": [
        "model.named_vars[\"obs\"]"
      ],
      "execution_count": null,
      "outputs": [
        {
          "output_type": "execute_result",
          "data": {
            "text/latex": "$\\text{obs} \\sim \\text{Normal}(\\mathit{mu}=\\text{mu},~\\mathit{sigma}=1.0)$",
            "text/plain": [
              "obs ~ Normal"
            ]
          },
          "metadata": {
            "tags": []
          },
          "execution_count": 12
        }
      ]
    },
    {
      "cell_type": "markdown",
      "metadata": {
        "id": "D06jV7RRdgRW"
      },
      "source": [
        "* PyMC3の確率変数(RV: random variable)には以下の2種類がある。\n",
        "cf. https://docs.pymc.io/api/variables.html\n",
        "\n",
        "\n",
        "1.   Free (= Unobserved) RVs that a model is specified in terms of. \n",
        "2.   Observed RVs that a model is specified in terms of. Potentially partially observed.\n",
        "\n"
      ]
    },
    {
      "cell_type": "code",
      "metadata": {
        "colab": {
          "base_uri": "https://localhost:8080/"
        },
        "id": "Ob7bCmGopJm1",
        "outputId": "99208b6e-9083-4d8a-e674-861de614a6e1"
      },
      "source": [
        "model.free_RVs"
      ],
      "execution_count": null,
      "outputs": [
        {
          "output_type": "execute_result",
          "data": {
            "text/plain": [
              "[mu ~ Normal]"
            ]
          },
          "metadata": {
            "tags": []
          },
          "execution_count": 13
        }
      ]
    },
    {
      "cell_type": "code",
      "metadata": {
        "colab": {
          "base_uri": "https://localhost:8080/"
        },
        "id": "2PDCycxOpLqq",
        "outputId": "da125068-1205-4120-a933-edc352a3912b"
      },
      "source": [
        "model.observed_RVs"
      ],
      "execution_count": null,
      "outputs": [
        {
          "output_type": "execute_result",
          "data": {
            "text/plain": [
              "[obs ~ Normal]"
            ]
          },
          "metadata": {
            "tags": []
          },
          "execution_count": 14
        }
      ]
    },
    {
      "cell_type": "markdown",
      "metadata": {
        "id": "GD9oO6KAGJWk"
      },
      "source": [
        "* `basic_RVs`: List of random variables the model is defined in terms of (which excludes deterministics)\n",
        " * deterministicsについては後で説明。"
      ]
    },
    {
      "cell_type": "code",
      "metadata": {
        "colab": {
          "base_uri": "https://localhost:8080/"
        },
        "id": "R2te3Ss9pCjd",
        "outputId": "27564ba7-8233-4511-cadd-d0723b68ff2c"
      },
      "source": [
        "model.basic_RVs"
      ],
      "execution_count": null,
      "outputs": [
        {
          "output_type": "execute_result",
          "data": {
            "text/plain": [
              "[mu ~ Normal, obs ~ Normal]"
            ]
          },
          "metadata": {
            "tags": []
          },
          "execution_count": 15
        }
      ]
    },
    {
      "cell_type": "markdown",
      "metadata": {
        "id": "8TZNnV9DgdV9"
      },
      "source": [
        "### 2.2.2 log probabilityの計算"
      ]
    },
    {
      "cell_type": "markdown",
      "metadata": {
        "id": "xl8w-uTupkCY"
      },
      "source": [
        "* 観測データを100個指定しているので、muを特定の値に固定することでlog probabilityを計算することができる。\n",
        " * `logp`は、後で見るように、同時分布$p(X,\\theta)$の密度関数の対数を表す。"
      ]
    },
    {
      "cell_type": "code",
      "metadata": {
        "colab": {
          "base_uri": "https://localhost:8080/"
        },
        "id": "UJTktNIMpSNs",
        "outputId": "65de5dfc-321d-4ceb-8f67-1b31ffe458fc"
      },
      "source": [
        "model.logp({\"mu\": 0})"
      ],
      "execution_count": null,
      "outputs": [
        {
          "output_type": "execute_result",
          "data": {
            "text/plain": [
              "array(-149.56099978)"
            ]
          },
          "metadata": {
            "tags": []
          },
          "execution_count": 19
        }
      ]
    },
    {
      "cell_type": "code",
      "metadata": {
        "colab": {
          "base_uri": "https://localhost:8080/"
        },
        "id": "wz4bgDS9ppQ3",
        "outputId": "4b9a4821-c440-4f06-e040-e46a3dee6dc3"
      },
      "source": [
        "model.logp({mu: 0})"
      ],
      "execution_count": null,
      "outputs": [
        {
          "output_type": "execute_result",
          "data": {
            "text/plain": [
              "array(-149.56099978)"
            ]
          },
          "metadata": {
            "tags": []
          },
          "execution_count": 20
        }
      ]
    },
    {
      "cell_type": "markdown",
      "metadata": {
        "id": "ootFpJ2GTpxI"
      },
      "source": [
        "* モデルに属するそれぞれの確率変数は、適当な初期値を設定されている。\n",
        " * この初期値は、サンプリングの出発点として用いられる。"
      ]
    },
    {
      "cell_type": "code",
      "metadata": {
        "colab": {
          "base_uri": "https://localhost:8080/"
        },
        "id": "UA3Ljl1UmfYl",
        "outputId": "ceea85dc-3fcc-487a-8ea3-ca1ab90b885c"
      },
      "source": [
        "mu.tag.test_value"
      ],
      "execution_count": null,
      "outputs": [
        {
          "output_type": "execute_result",
          "data": {
            "text/plain": [
              "array(0.)"
            ]
          },
          "metadata": {
            "tags": []
          },
          "execution_count": 21
        }
      ]
    },
    {
      "cell_type": "markdown",
      "metadata": {
        "id": "7pVxiIT2Zix9"
      },
      "source": [
        "* 観測されている確率変数の値は、設定された観測データと同じ値になっている。"
      ]
    },
    {
      "cell_type": "code",
      "metadata": {
        "colab": {
          "base_uri": "https://localhost:8080/"
        },
        "id": "IHS54Ynsmh_X",
        "outputId": "7f1e4dac-9cdf-4142-bf19-b6df726b8ada"
      },
      "source": [
        "obs.tag.test_value"
      ],
      "execution_count": null,
      "outputs": [
        {
          "output_type": "execute_result",
          "data": {
            "text/plain": [
              "array([-0.28109936,  0.49118936,  1.03083562,  0.2801563 ,  1.44237715,\n",
              "        2.97851478, -1.21637551,  1.45125734,  0.33358539, -0.84692923,\n",
              "       -1.18743772, -1.68002752, -0.93947347, -0.24764372, -0.36302464,\n",
              "        0.88820811,  0.19148843, -0.96439679,  1.17112002, -0.90621788,\n",
              "       -1.17920064,  0.55819952,  1.75478619,  0.5113835 ,  0.1255729 ,\n",
              "        0.62676904, -0.0990249 , -0.24092956, -2.23380474,  1.22623278,\n",
              "       -0.34185567, -0.39158132, -1.93847381,  0.56708616,  1.35565762,\n",
              "       -0.59813906, -0.96949042,  0.07885353,  0.32695086,  0.03608915,\n",
              "       -0.06756104,  1.29679998, -1.74570229, -1.14123609, -0.27480694,\n",
              "       -0.89183126, -0.87812284,  0.17670031,  0.13098431,  0.28214946,\n",
              "       -1.21466668,  0.08844828,  0.07781267,  0.6258993 ,  0.32781577,\n",
              "        2.14408544,  1.6005893 , -0.67383613, -0.60200571, -1.07278876,\n",
              "        0.83027999,  0.04658836,  1.47961245, -0.87736961,  0.6301046 ,\n",
              "       -0.52630896,  1.63929798,  0.18879357,  0.19264234, -0.19791248,\n",
              "       -2.39474952,  0.0112421 , -0.173098  ,  0.47953134,  1.05941293,\n",
              "       -2.06030031, -0.13521141, -1.32148604, -1.0389627 ,  0.23477987,\n",
              "       -0.25675579, -0.81649563,  0.95544788,  2.03147712, -0.8299567 ,\n",
              "       -0.21658208, -0.62427868, -0.435635  , -0.08165549, -1.03793513,\n",
              "        1.31386525, -0.67575819,  0.62850264,  0.58295927, -2.09541827,\n",
              "        2.21454572,  1.81092564,  1.39454755,  0.94080205,  1.00010285])"
            ]
          },
          "metadata": {
            "tags": []
          },
          "execution_count": 22
        }
      ]
    },
    {
      "cell_type": "code",
      "metadata": {
        "colab": {
          "base_uri": "https://localhost:8080/"
        },
        "id": "PUxibX1Pq9EK",
        "outputId": "bbc6166a-7493-475a-fdc8-f1420f5ea200"
      },
      "source": [
        "obs.observations"
      ],
      "execution_count": null,
      "outputs": [
        {
          "output_type": "execute_result",
          "data": {
            "text/plain": [
              "array([-0.28109936,  0.49118936,  1.03083562,  0.2801563 ,  1.44237715,\n",
              "        2.97851478, -1.21637551,  1.45125734,  0.33358539, -0.84692923,\n",
              "       -1.18743772, -1.68002752, -0.93947347, -0.24764372, -0.36302464,\n",
              "        0.88820811,  0.19148843, -0.96439679,  1.17112002, -0.90621788,\n",
              "       -1.17920064,  0.55819952,  1.75478619,  0.5113835 ,  0.1255729 ,\n",
              "        0.62676904, -0.0990249 , -0.24092956, -2.23380474,  1.22623278,\n",
              "       -0.34185567, -0.39158132, -1.93847381,  0.56708616,  1.35565762,\n",
              "       -0.59813906, -0.96949042,  0.07885353,  0.32695086,  0.03608915,\n",
              "       -0.06756104,  1.29679998, -1.74570229, -1.14123609, -0.27480694,\n",
              "       -0.89183126, -0.87812284,  0.17670031,  0.13098431,  0.28214946,\n",
              "       -1.21466668,  0.08844828,  0.07781267,  0.6258993 ,  0.32781577,\n",
              "        2.14408544,  1.6005893 , -0.67383613, -0.60200571, -1.07278876,\n",
              "        0.83027999,  0.04658836,  1.47961245, -0.87736961,  0.6301046 ,\n",
              "       -0.52630896,  1.63929798,  0.18879357,  0.19264234, -0.19791248,\n",
              "       -2.39474952,  0.0112421 , -0.173098  ,  0.47953134,  1.05941293,\n",
              "       -2.06030031, -0.13521141, -1.32148604, -1.0389627 ,  0.23477987,\n",
              "       -0.25675579, -0.81649563,  0.95544788,  2.03147712, -0.8299567 ,\n",
              "       -0.21658208, -0.62427868, -0.435635  , -0.08165549, -1.03793513,\n",
              "        1.31386525, -0.67575819,  0.62850264,  0.58295927, -2.09541827,\n",
              "        2.21454572,  1.81092564,  1.39454755,  0.94080205,  1.00010285])"
            ]
          },
          "metadata": {
            "tags": []
          },
          "execution_count": 23
        }
      ]
    },
    {
      "cell_type": "markdown",
      "metadata": {
        "id": "ZgWxszvEsbRO"
      },
      "source": [
        "* 下のセルの計算で、`model.logp({\"mu\": 0})`と同じ答えを得ることができているのは、なぜか。説明してみよう。"
      ]
    },
    {
      "cell_type": "code",
      "metadata": {
        "colab": {
          "base_uri": "https://localhost:8080/"
        },
        "id": "8fK5-a0Opvh5",
        "outputId": "d69004b7-369a-4c12-b12b-31386f0e4083"
      },
      "source": [
        "from scipy.stats import norm\n",
        "\n",
        "print(np.log(norm().pdf(obs.observations)).sum() + np.log(norm().pdf(0)))"
      ],
      "execution_count": null,
      "outputs": [
        {
          "output_type": "stream",
          "text": [
            "-149.5609997752354\n"
          ],
          "name": "stdout"
        }
      ]
    },
    {
      "cell_type": "markdown",
      "metadata": {
        "id": "34s_ahsjgOMi"
      },
      "source": [
        "* 確率変数の初期値は、以下のようにして手動で設定することもできる。"
      ]
    },
    {
      "cell_type": "code",
      "metadata": {
        "colab": {
          "base_uri": "https://localhost:8080/"
        },
        "id": "gLIfK8nxehC_",
        "outputId": "722a3387-3fb5-4fc6-8ddb-8d425e158e05"
      },
      "source": [
        "with model:\n",
        "    parameter = pm.Exponential(\"poisson_param\", 1.0, testval=0.5)\n",
        "\n",
        "print(\"parameter.tag.test_value =\", parameter.tag.test_value)"
      ],
      "execution_count": null,
      "outputs": [
        {
          "output_type": "stream",
          "text": [
            "parameter.tag.test_value = 0.5\n"
          ],
          "name": "stdout"
        }
      ]
    },
    {
      "cell_type": "markdown",
      "metadata": {
        "id": "5YwLKDA6iZWr"
      },
      "source": [
        "* 同じ分布に従う複数の確率変数を一挙に作ることもできる。\n",
        "* 確率変数のリストを作ることは推奨されていない。\n",
        " * cf. https://docs.pymc.io/notebooks/api_quickstart.html#Lists-of-RVs-/-higher-dimensional-RVs\n",
        "* キーワード引数shapeで個数(or 形)を指定する方法が推奨されている。"
      ]
    },
    {
      "cell_type": "code",
      "metadata": {
        "id": "VMWrreicHTP5"
      },
      "source": [
        "with pm.Model():\n",
        "    # bad:\n",
        "    x = [pm.Normal(f\"x_{i}\", mu=0, sigma=1) for i in range(10)]"
      ],
      "execution_count": null,
      "outputs": []
    },
    {
      "cell_type": "code",
      "metadata": {
        "id": "ttxDEGTAiYRg"
      },
      "source": [
        "with pm.Model() as model:\n",
        "    # good:\n",
        "    x = pm.Normal(\"x\", mu=0, sigma=1, shape=10)"
      ],
      "execution_count": null,
      "outputs": []
    },
    {
      "cell_type": "code",
      "metadata": {
        "colab": {
          "base_uri": "https://localhost:8080/"
        },
        "id": "nFlBERDWihCg",
        "outputId": "6eb0ba26-ee11-486f-a111-f53f358bd54b"
      },
      "source": [
        "x.tag.test_value"
      ],
      "execution_count": null,
      "outputs": [
        {
          "output_type": "execute_result",
          "data": {
            "text/plain": [
              "array([0., 0., 0., 0., 0., 0., 0., 0., 0., 0.])"
            ]
          },
          "metadata": {
            "tags": []
          },
          "execution_count": 28
        }
      ]
    },
    {
      "cell_type": "code",
      "metadata": {
        "colab": {
          "base_uri": "https://localhost:8080/",
          "height": 39
        },
        "id": "A6_zvY5Uj2Lz",
        "outputId": "2f07fe67-4175-4920-ddef-4c157399b9db"
      },
      "source": [
        "x"
      ],
      "execution_count": null,
      "outputs": [
        {
          "output_type": "execute_result",
          "data": {
            "text/latex": "$\\text{x} \\sim \\text{Normal}(\\mathit{mu}=0.0,~\\mathit{sigma}=1.0)$",
            "text/plain": [
              "x ~ Normal"
            ]
          },
          "metadata": {
            "tags": []
          },
          "execution_count": 29
        }
      ]
    },
    {
      "cell_type": "markdown",
      "metadata": {
        "id": "wcyUhuo2aSro"
      },
      "source": [
        "## 2.3 PyMC3で使える確率分布\n",
        "* https://docs.pymc.io/notebooks/api_quickstart.html#2.-Probability-Distributions"
      ]
    },
    {
      "cell_type": "markdown",
      "metadata": {
        "id": "4dv232Ruahja"
      },
      "source": [
        "### 2.3.1 PyMC3におけるprobabilistic programの構成\n",
        "* どんなprobabilistic programも、観測確率変数と潜在確率変数とから成る。\n",
        " * 観測確率変数は、尤度分布によって定義される。\n",
        " * 潜在確率変数は、事前分布によって定義される。\n"
      ]
    },
    {
      "cell_type": "markdown",
      "metadata": {
        "id": "t_rafX2JIn65"
      },
      "source": [
        "* PyMC3で使える分布は、以下の通り。\n",
        " * 単変量連続分布 https://docs.pymc.io/api/distributions/continuous.html\n",
        " * 単変量離散分布 https://docs.pymc.io/api/distributions/discrete.html\n",
        " * 多変量分布 https://docs.pymc.io/api/distributions/multivariate.html\n",
        " * 混合分布　https://docs.pymc.io/api/distributions/mixture.html"
      ]
    },
    {
      "cell_type": "markdown",
      "metadata": {
        "id": "2tCBsV1KaWnf"
      },
      "source": [
        "* `help`関数で各分布の説明を見ることができる。"
      ]
    },
    {
      "cell_type": "code",
      "metadata": {
        "colab": {
          "base_uri": "https://localhost:8080/"
        },
        "id": "QdtnqxzkaLfP",
        "outputId": "6846a209-c72a-4c36-a0df-a976ffa26b0d"
      },
      "source": [
        "help(pm.Normal)"
      ],
      "execution_count": null,
      "outputs": [
        {
          "output_type": "stream",
          "text": [
            "Help on class Normal in module pymc3.distributions.continuous:\n",
            "\n",
            "class Normal(pymc3.distributions.distribution.Continuous)\n",
            " |  Normal(name, *args, **kwargs)\n",
            " |  \n",
            " |  Univariate normal log-likelihood.\n",
            " |  \n",
            " |  The pdf of this distribution is\n",
            " |  \n",
            " |  .. math::\n",
            " |  \n",
            " |     f(x \\mid \\mu, \\tau) =\n",
            " |         \\sqrt{\\frac{\\tau}{2\\pi}}\n",
            " |         \\exp\\left\\{ -\\frac{\\tau}{2} (x-\\mu)^2 \\right\\}\n",
            " |  \n",
            " |  Normal distribution can be parameterized either in terms of precision\n",
            " |  or standard deviation. The link between the two parametrizations is\n",
            " |  given by\n",
            " |  \n",
            " |  .. math::\n",
            " |  \n",
            " |     \\tau = \\dfrac{1}{\\sigma^2}\n",
            " |  \n",
            " |  .. plot::\n",
            " |  \n",
            " |      import matplotlib.pyplot as plt\n",
            " |      import numpy as np\n",
            " |      import scipy.stats as st\n",
            " |      plt.style.use('seaborn-darkgrid')\n",
            " |      x = np.linspace(-5, 5, 1000)\n",
            " |      mus = [0., 0., 0., -2.]\n",
            " |      sigmas = [0.4, 1., 2., 0.4]\n",
            " |      for mu, sigma in zip(mus, sigmas):\n",
            " |          pdf = st.norm.pdf(x, mu, sigma)\n",
            " |          plt.plot(x, pdf, label=r'$\\mu$ = {}, $\\sigma$ = {}'.format(mu, sigma))\n",
            " |      plt.xlabel('x', fontsize=12)\n",
            " |      plt.ylabel('f(x)', fontsize=12)\n",
            " |      plt.legend(loc=1)\n",
            " |      plt.show()\n",
            " |  \n",
            " |  ========  ==========================================\n",
            " |  Support   :math:`x \\in \\mathbb{R}`\n",
            " |  Mean      :math:`\\mu`\n",
            " |  Variance  :math:`\\dfrac{1}{\\tau}` or :math:`\\sigma^2`\n",
            " |  ========  ==========================================\n",
            " |  \n",
            " |  Parameters\n",
            " |  ----------\n",
            " |  mu: float\n",
            " |      Mean.\n",
            " |  sigma: float\n",
            " |      Standard deviation (sigma > 0) (only required if tau is not specified).\n",
            " |  tau: float\n",
            " |      Precision (tau > 0) (only required if sigma is not specified).\n",
            " |  \n",
            " |  Examples\n",
            " |  --------\n",
            " |  .. code-block:: python\n",
            " |  \n",
            " |      with pm.Model():\n",
            " |          x = pm.Normal('x', mu=0, sigma=10)\n",
            " |  \n",
            " |      with pm.Model():\n",
            " |          x = pm.Normal('x', mu=0, tau=1/23)\n",
            " |  \n",
            " |  Method resolution order:\n",
            " |      Normal\n",
            " |      pymc3.distributions.distribution.Continuous\n",
            " |      pymc3.distributions.distribution.Distribution\n",
            " |      builtins.object\n",
            " |  \n",
            " |  Methods defined here:\n",
            " |  \n",
            " |  __init__(self, mu=0, sigma=None, tau=None, sd=None, **kwargs)\n",
            " |      Initialize self.  See help(type(self)) for accurate signature.\n",
            " |  \n",
            " |  logcdf(self, value)\n",
            " |      Compute the log of the cumulative distribution function for Normal distribution\n",
            " |      at the specified value.\n",
            " |      \n",
            " |      Parameters\n",
            " |      ----------\n",
            " |      value: numeric\n",
            " |          Value(s) for which log CDF is calculated. If the log CDF for multiple\n",
            " |          values are desired the values must be provided in a numpy array or theano tensor.\n",
            " |      \n",
            " |      Returns\n",
            " |      -------\n",
            " |      TensorVariable\n",
            " |  \n",
            " |  logp(self, value)\n",
            " |      Calculate log-probability of Normal distribution at specified value.\n",
            " |      \n",
            " |      Parameters\n",
            " |      ----------\n",
            " |      value: numeric\n",
            " |          Value(s) for which log-probability is calculated. If the log probabilities for multiple\n",
            " |          values are desired the values must be provided in a numpy array or theano tensor\n",
            " |      \n",
            " |      Returns\n",
            " |      -------\n",
            " |      TensorVariable\n",
            " |  \n",
            " |  random(self, point=None, size=None)\n",
            " |      Draw random values from Normal distribution.\n",
            " |      \n",
            " |      Parameters\n",
            " |      ----------\n",
            " |      point: dict, optional\n",
            " |          Dict of variable values on which random values are to be\n",
            " |          conditioned (uses default point if not specified).\n",
            " |      size: int, optional\n",
            " |          Desired size of random sample (returns one sample if not\n",
            " |          specified).\n",
            " |      \n",
            " |      Returns\n",
            " |      -------\n",
            " |      array\n",
            " |  \n",
            " |  ----------------------------------------------------------------------\n",
            " |  Data and other attributes defined here:\n",
            " |  \n",
            " |  data = None\n",
            " |  \n",
            " |  ----------------------------------------------------------------------\n",
            " |  Methods inherited from pymc3.distributions.distribution.Distribution:\n",
            " |  \n",
            " |  __getnewargs__(self)\n",
            " |  \n",
            " |  __latex__ = _repr_latex_(self, *, formatting='latex_with_params', **kwargs)\n",
            " |  \n",
            " |  __str__(self, **kwargs)\n",
            " |      Return str(self).\n",
            " |  \n",
            " |  default(self)\n",
            " |  \n",
            " |  get_test_val(self, val, defaults)\n",
            " |  \n",
            " |  getattr_value(self, val)\n",
            " |  \n",
            " |  logp_nojac(self, *args, **kwargs)\n",
            " |      Return the logp, but do not include a jacobian term for transforms.\n",
            " |      \n",
            " |      If we use different parametrizations for the same distribution, we\n",
            " |      need to add the determinant of the jacobian of the transformation\n",
            " |      to make sure the densities still describe the same distribution.\n",
            " |      However, MAP estimates are not invariant with respect to the\n",
            " |      parametrization, we need to exclude the jacobian terms in this case.\n",
            " |      \n",
            " |      This function should be overwritten in base classes for transformed\n",
            " |      distributions.\n",
            " |  \n",
            " |  logp_sum(self, *args, **kwargs)\n",
            " |      Return the sum of the logp values for the given observations.\n",
            " |      \n",
            " |      Subclasses can use this to improve the speed of logp evaluations\n",
            " |      if only the sum of the logp values is needed.\n",
            " |  \n",
            " |  ----------------------------------------------------------------------\n",
            " |  Class methods inherited from pymc3.distributions.distribution.Distribution:\n",
            " |  \n",
            " |  dist(*args, **kwargs) from builtins.type\n",
            " |  \n",
            " |  ----------------------------------------------------------------------\n",
            " |  Static methods inherited from pymc3.distributions.distribution.Distribution:\n",
            " |  \n",
            " |  __new__(cls, name, *args, **kwargs)\n",
            " |      Create and return a new object.  See help(type) for accurate signature.\n",
            " |  \n",
            " |  ----------------------------------------------------------------------\n",
            " |  Data descriptors inherited from pymc3.distributions.distribution.Distribution:\n",
            " |  \n",
            " |  __dict__\n",
            " |      dictionary for instance variables (if defined)\n",
            " |  \n",
            " |  __weakref__\n",
            " |      list of weak references to the object (if defined)\n",
            "\n"
          ],
          "name": "stdout"
        }
      ]
    },
    {
      "cell_type": "code",
      "metadata": {
        "id": "Ga5fXr_rP_yn"
      },
      "source": [
        "with pm.Model() as model:\n",
        "    x = pm.Normal(\"x\", mu=0, sigma=1)"
      ],
      "execution_count": null,
      "outputs": []
    },
    {
      "cell_type": "markdown",
      "metadata": {
        "id": "fRbAA9cHnojs"
      },
      "source": [
        "* 確率変数の`random`メソッドを使うと、その確率変数が従う分布から乱数を発生させることができる。"
      ]
    },
    {
      "cell_type": "code",
      "metadata": {
        "colab": {
          "base_uri": "https://localhost:8080/"
        },
        "id": "sqZ63hpmneQq",
        "outputId": "59f702a8-d0ab-404b-f8e4-cf4d54264e91"
      },
      "source": [
        "x.random()"
      ],
      "execution_count": null,
      "outputs": [
        {
          "output_type": "execute_result",
          "data": {
            "text/plain": [
              "array(1.56529024)"
            ]
          },
          "metadata": {
            "tags": []
          },
          "execution_count": 32
        }
      ]
    },
    {
      "cell_type": "code",
      "metadata": {
        "colab": {
          "base_uri": "https://localhost:8080/"
        },
        "id": "jb5UQ5EyoDtN",
        "outputId": "0875fac0-f6f9-4c8f-920f-d511c0bb1aa8"
      },
      "source": [
        "model.named_vars[\"x\"].random()"
      ],
      "execution_count": null,
      "outputs": [
        {
          "output_type": "execute_result",
          "data": {
            "text/plain": [
              "array(0.61661178)"
            ]
          },
          "metadata": {
            "tags": []
          },
          "execution_count": 33
        }
      ]
    },
    {
      "cell_type": "markdown",
      "metadata": {
        "id": "hE1IkuD3n48R"
      },
      "source": [
        "* 発生させる乱数の形も指定できる。"
      ]
    },
    {
      "cell_type": "code",
      "metadata": {
        "colab": {
          "base_uri": "https://localhost:8080/"
        },
        "id": "nsBkhj7bnge3",
        "outputId": "4434cac8-0050-4387-97e5-7a5a4f2126a6"
      },
      "source": [
        "x.random(size=(5,2))"
      ],
      "execution_count": null,
      "outputs": [
        {
          "output_type": "execute_result",
          "data": {
            "text/plain": [
              "array([[ 0.48572596,  0.26659942],\n",
              "       [-0.11271173,  0.45042105],\n",
              "       [-0.88201618, -0.86087659],\n",
              "       [-0.33407268,  0.22965193],\n",
              "       [-0.19820113, -0.76525981]])"
            ]
          },
          "metadata": {
            "tags": []
          },
          "execution_count": 34
        }
      ]
    },
    {
      "cell_type": "markdown",
      "metadata": {
        "id": "cJe6jgKBP2Dt"
      },
      "source": [
        "* `x.distribution`で、`x`が従う確率分布にアクセスできる。\n",
        "* `x.distribution.logp`を使うと、確率変数が従う分布の密度関数の対数を評価することもできる。"
      ]
    },
    {
      "cell_type": "code",
      "metadata": {
        "colab": {
          "base_uri": "https://localhost:8080/"
        },
        "id": "kQ9lZ6ZpQEsN",
        "outputId": "4cd278f9-eadc-446e-fa91-e7804126870a"
      },
      "source": [
        "eval_points = np.linspace(-5.0, 5.0, 11)\n",
        "print(eval_points)"
      ],
      "execution_count": null,
      "outputs": [
        {
          "output_type": "stream",
          "text": [
            "[-5. -4. -3. -2. -1.  0.  1.  2.  3.  4.  5.]\n"
          ],
          "name": "stdout"
        }
      ]
    },
    {
      "cell_type": "code",
      "metadata": {
        "colab": {
          "base_uri": "https://localhost:8080/"
        },
        "id": "RSHmiiecQnr5",
        "outputId": "884d374d-27f8-4f75-c35f-e378911ec04c"
      },
      "source": [
        "np.exp(x.distribution.logp(eval_points).eval())"
      ],
      "execution_count": null,
      "outputs": [
        {
          "output_type": "execute_result",
          "data": {
            "text/plain": [
              "array([1.48671951e-06, 1.33830226e-04, 4.43184841e-03, 5.39909665e-02,\n",
              "       2.41970725e-01, 3.98942280e-01, 2.41970725e-01, 5.39909665e-02,\n",
              "       4.43184841e-03, 1.33830226e-04, 1.48671951e-06])"
            ]
          },
          "metadata": {
            "tags": []
          },
          "execution_count": 36
        }
      ]
    },
    {
      "cell_type": "code",
      "metadata": {
        "colab": {
          "base_uri": "https://localhost:8080/"
        },
        "id": "GGxkHtAOSqjD",
        "outputId": "7ffd82a8-dbfa-4d2d-c859-518c54f90dd8"
      },
      "source": [
        "np.exp(model.named_vars[\"x\"].distribution.logp(eval_points).eval())"
      ],
      "execution_count": null,
      "outputs": [
        {
          "output_type": "execute_result",
          "data": {
            "text/plain": [
              "array([1.48671951e-06, 1.33830226e-04, 4.43184841e-03, 5.39909665e-02,\n",
              "       2.41970725e-01, 3.98942280e-01, 2.41970725e-01, 5.39909665e-02,\n",
              "       4.43184841e-03, 1.33830226e-04, 1.48671951e-06])"
            ]
          },
          "metadata": {
            "tags": []
          },
          "execution_count": 37
        }
      ]
    },
    {
      "cell_type": "markdown",
      "metadata": {
        "id": "7c0kLnZnbJ0l"
      },
      "source": [
        "### 2.3.2 確率変数のdeterministic transform\n",
        "* 観測確率変数でも潜在確率変数でもないものとして、確率変数のdeterministic transformsがある。\n",
        "* これは、他の確率変数を、加減乗除の計算を行ったり、自分で定義した関数を適用するなどして、変換したもののことである。"
      ]
    },
    {
      "cell_type": "code",
      "metadata": {
        "id": "w4v51b_cabB1"
      },
      "source": [
        "with pm.Model() as model:\n",
        "    x = pm.Normal(\"x\", mu=0, sigma=1)\n",
        "    y = pm.Gamma(\"y\", alpha=1, beta=1)\n",
        "    summed = x + y\n",
        "    squared = x ** 2\n",
        "    sined = pm.math.sin(x)"
      ],
      "execution_count": null,
      "outputs": []
    },
    {
      "cell_type": "markdown",
      "metadata": {
        "id": "CkyOTvfVdrB2"
      },
      "source": [
        "* deterministic transform後の変数は`basic_RVs`には含まれない。"
      ]
    },
    {
      "cell_type": "code",
      "metadata": {
        "colab": {
          "base_uri": "https://localhost:8080/"
        },
        "id": "5UcorMWzdnf_",
        "outputId": "5e701b92-0f92-4b8d-de44-a27f6689b2a5"
      },
      "source": [
        "model.basic_RVs"
      ],
      "execution_count": null,
      "outputs": [
        {
          "output_type": "execute_result",
          "data": {
            "text/plain": [
              "[x ~ Normal, y_log__ ~ TransformedDistribution]"
            ]
          },
          "metadata": {
            "tags": []
          },
          "execution_count": 39
        }
      ]
    },
    {
      "cell_type": "markdown",
      "metadata": {
        "id": "gxmNk4Z6JkNH"
      },
      "source": [
        "* `y_log__`とあるのは、確率変数`y`については内部的にはその値の対数で表現されているから。\n",
        " * ガンマ分布に従う確率変数は、デフォルトの設定ではこのように扱われる。"
      ]
    },
    {
      "cell_type": "code",
      "metadata": {
        "colab": {
          "base_uri": "https://localhost:8080/",
          "height": 39
        },
        "id": "wJh0EtMpd8TH",
        "outputId": "b6c78c4c-ce99-4241-c98f-6842d029f281"
      },
      "source": [
        "y"
      ],
      "execution_count": null,
      "outputs": [
        {
          "output_type": "execute_result",
          "data": {
            "text/latex": "$\\text{y} \\sim \\text{Gamma}(\\mathit{alpha}=1.0,~\\mathit{beta}=1.0)$",
            "text/plain": [
              "y ~ Gamma"
            ]
          },
          "metadata": {
            "tags": []
          },
          "execution_count": 40
        }
      ]
    },
    {
      "cell_type": "code",
      "metadata": {
        "colab": {
          "base_uri": "https://localhost:8080/"
        },
        "id": "pQW6ikPdnDjN",
        "outputId": "6070cd6c-fd23-4c6e-acc7-0b5510d4355d"
      },
      "source": [
        "y.random()"
      ],
      "execution_count": null,
      "outputs": [
        {
          "output_type": "execute_result",
          "data": {
            "text/plain": [
              "array(6.11217467)"
            ]
          },
          "metadata": {
            "tags": []
          },
          "execution_count": 41
        }
      ]
    },
    {
      "cell_type": "code",
      "metadata": {
        "colab": {
          "base_uri": "https://localhost:8080/"
        },
        "id": "go6Dh4oxd4GA",
        "outputId": "9f8d2fc2-2459-462d-8916-82cd763f72a5"
      },
      "source": [
        "summed"
      ],
      "execution_count": null,
      "outputs": [
        {
          "output_type": "execute_result",
          "data": {
            "text/plain": [
              "Elemwise{add,no_inplace}.0"
            ]
          },
          "metadata": {
            "tags": []
          },
          "execution_count": 42
        }
      ]
    },
    {
      "cell_type": "code",
      "metadata": {
        "colab": {
          "base_uri": "https://localhost:8080/"
        },
        "id": "eiHwE2YARBVI",
        "outputId": "2eec4c61-6431-4124-ac13-cc28535c5bc4"
      },
      "source": [
        " summed.eval({x:0, y:1})"
      ],
      "execution_count": null,
      "outputs": [
        {
          "output_type": "execute_result",
          "data": {
            "text/plain": [
              "array(1.)"
            ]
          },
          "metadata": {
            "tags": []
          },
          "execution_count": 43
        }
      ]
    },
    {
      "cell_type": "markdown",
      "metadata": {
        "id": "DEzjkU2EcwpF"
      },
      "source": [
        "* 変換した後の変数がとる値もPyMC3にちゃんと追跡させるようにするには、`pm.Deterministic`を使って明示的に変換する。\n",
        " * reparameterizationのために`pm.Deterministic`を使ったりする（この授業の後のほうで述べる）。"
      ]
    },
    {
      "cell_type": "code",
      "metadata": {
        "id": "gOH-aAoGctpU"
      },
      "source": [
        "with pm.Model() as model:\n",
        "    x = pm.Normal(\"x\", mu=0, sigma=1)\n",
        "    plus_2 = x + 2\n",
        "    plus_2_det = pm.Deterministic(\"x plus 2\", x + 2)"
      ],
      "execution_count": null,
      "outputs": []
    },
    {
      "cell_type": "code",
      "metadata": {
        "colab": {
          "base_uri": "https://localhost:8080/"
        },
        "id": "d2vwKDF_d0Hf",
        "outputId": "e05c9edb-4789-4c0d-d9e8-896ce718e968"
      },
      "source": [
        "model.basic_RVs"
      ],
      "execution_count": null,
      "outputs": [
        {
          "output_type": "execute_result",
          "data": {
            "text/plain": [
              "[x ~ Normal]"
            ]
          },
          "metadata": {
            "tags": []
          },
          "execution_count": 45
        }
      ]
    },
    {
      "cell_type": "code",
      "metadata": {
        "colab": {
          "base_uri": "https://localhost:8080/"
        },
        "id": "yXxljJ5ic8My",
        "outputId": "59e55acb-7a67-4b12-f2e2-5c61e2f5dee7"
      },
      "source": [
        "plus_2"
      ],
      "execution_count": null,
      "outputs": [
        {
          "output_type": "execute_result",
          "data": {
            "text/plain": [
              "Elemwise{add,no_inplace}.0"
            ]
          },
          "metadata": {
            "tags": []
          },
          "execution_count": 46
        }
      ]
    },
    {
      "cell_type": "code",
      "metadata": {
        "colab": {
          "base_uri": "https://localhost:8080/",
          "height": 37
        },
        "id": "OdnqeVwLc98Q",
        "outputId": "e7e07a3c-e078-4839-cd90-681ccb85ed37"
      },
      "source": [
        "plus_2_det"
      ],
      "execution_count": null,
      "outputs": [
        {
          "output_type": "execute_result",
          "data": {
            "text/latex": "$\\text{x plus 2} \\sim \\text{Deterministic}(\\text{x},~\\text{Constant})$",
            "text/plain": [
              "x plus 2 ~ Deterministic"
            ]
          },
          "metadata": {
            "tags": []
          },
          "execution_count": 47
        }
      ]
    },
    {
      "cell_type": "code",
      "metadata": {
        "colab": {
          "base_uri": "https://localhost:8080/"
        },
        "id": "s1lcIYypK4Tx",
        "outputId": "c293b4b3-581b-4bbb-e1e7-e41f95b49631"
      },
      "source": [
        "model.deterministics"
      ],
      "execution_count": null,
      "outputs": [
        {
          "output_type": "execute_result",
          "data": {
            "text/plain": [
              "[x plus 2 ~ Deterministic]"
            ]
          },
          "metadata": {
            "tags": []
          },
          "execution_count": 48
        }
      ]
    },
    {
      "cell_type": "markdown",
      "metadata": {
        "id": "ldESl6zzLGaW"
      },
      "source": [
        "### 2.3.3 確率変数の自動的なtransform\n",
        "* 上に示した、ガンマ分布に従う確率変数の場合のように、デフォルトの設定で自動的に変換される変数がある。"
      ]
    },
    {
      "cell_type": "markdown",
      "metadata": {
        "id": "Ixjo0-bRLWM4"
      },
      "source": [
        "* 例えば、範囲の決まった連続一様分布に従う確率変数は、`LogOdds`変換が自動的に適用されている。"
      ]
    },
    {
      "cell_type": "code",
      "metadata": {
        "id": "CD8qiJ9leId1"
      },
      "source": [
        "with pm.Model() as model:\n",
        "    x = pm.Uniform(\"x\", lower=0, upper=1)"
      ],
      "execution_count": null,
      "outputs": []
    },
    {
      "cell_type": "code",
      "metadata": {
        "colab": {
          "base_uri": "https://localhost:8080/"
        },
        "id": "m2ucQU8eLvkJ",
        "outputId": "1a34affc-956a-4297-f77a-18dfce58658b"
      },
      "source": [
        "model.free_RVs"
      ],
      "execution_count": null,
      "outputs": [
        {
          "output_type": "execute_result",
          "data": {
            "text/plain": [
              "[x_interval__ ~ TransformedDistribution]"
            ]
          },
          "metadata": {
            "tags": []
          },
          "execution_count": 50
        }
      ]
    },
    {
      "cell_type": "markdown",
      "metadata": {
        "id": "RfrH2HrOL6lr"
      },
      "source": [
        "* `x`は、`x_interval__`にロジスティック変換（`LogOdds`変換の逆）を適用したものとして扱われている。\n",
        " * 表立っては分からないが、以下のようにすると、`x`が確率変数ではなくdeterministics（確率変数をdeterministicに変換したもの）の一つであることが分かる。"
      ]
    },
    {
      "cell_type": "code",
      "metadata": {
        "colab": {
          "base_uri": "https://localhost:8080/"
        },
        "id": "tQHt1V-ILzbQ",
        "outputId": "06b35f97-e61b-4b85-caf6-cfbd3c2b6825"
      },
      "source": [
        "model.deterministics"
      ],
      "execution_count": null,
      "outputs": [
        {
          "output_type": "execute_result",
          "data": {
            "text/plain": [
              "[x ~ Uniform]"
            ]
          },
          "metadata": {
            "tags": []
          },
          "execution_count": 51
        }
      ]
    },
    {
      "cell_type": "markdown",
      "metadata": {
        "id": "f3AcjmjkMXFJ"
      },
      "source": [
        "* このように自動的な変換が適用されるのは、変換した後の空間でのサンプリングのほうが容易なためである。"
      ]
    },
    {
      "cell_type": "markdown",
      "metadata": {
        "id": "9hCt5JGiMs96"
      },
      "source": [
        "### 2.3.4 変数変換の利用例：変換を明示的に指定することで対数正規分布に従う確率変数を作る"
      ]
    },
    {
      "cell_type": "markdown",
      "metadata": {
        "id": "RKdtu-R-M9Un"
      },
      "source": [
        "* PyMC3の`pymc3.distributions.transforms.ElemwiseTransform`クラスを継承して、自前の変数変換`Exp`を定義する。\n",
        " * これは、変数に指数関数を適用する変換である。\n",
        " * 詳細は https://github.com/pymc-devs/pymc3/blob/master/pymc3/distributions/transforms.py を参照。"
      ]
    },
    {
      "cell_type": "markdown",
      "metadata": {
        "id": "8T0sG_Uf5oSB"
      },
      "source": [
        "* 自前で変数変換を定義するときは、(1)順方向の変換と、(2)逆方向の変換と、(3)ヤコビアン行列式の絶対値の対数とを、書く。\n",
        " * 順方向の変換 $y=e^x$\n",
        " * 逆変換 $x = \\log y$\n",
        " * ヤコビアン行列式の絶対値の対数 $\\log|dx/dy| = \\log (1/y) = - \\log y$\n"
      ]
    },
    {
      "cell_type": "code",
      "metadata": {
        "id": "fALMYI_NM6IS"
      },
      "source": [
        "import theano.tensor as tt # PyMC3でのテンソル型 cf. https://docs.pymc.io/PyMC3_and_Theano.html\n",
        "import pymc3.distributions.transforms as tr\n",
        "\n",
        "class Exp(tr.ElemwiseTransform):\n",
        "    name = \"exp\"\n",
        "\n",
        "    def backward(self, x):\n",
        "        return tt.log(x)\n",
        "\n",
        "    def forward(self, x):\n",
        "        return tt.exp(x)\n",
        "\n",
        "    # Calculates logarithm of the absolute value of the Jacobian determinant of the backward transformation for input x\n",
        "    def jacobian_det(self, x):\n",
        "        return -tt.log(x)"
      ],
      "execution_count": null,
      "outputs": []
    },
    {
      "cell_type": "markdown",
      "metadata": {
        "id": "1PXbIu75NK2p"
      },
      "source": [
        "* 正規分布に従う確率変数に指数関数を適用すると、その値は対数正規分布に従う。\n",
        " * `x1`は、この変数変換を使って対数正規分布に従う確率変数として作られている。\n",
        " * `x2`は、PyMC3に初めから用意されている対数正規分布に従う確率変数として作られている。"
      ]
    },
    {
      "cell_type": "code",
      "metadata": {
        "id": "ek-kVuIfNScA"
      },
      "source": [
        "with pm.Model() as model:\n",
        "    x1 = pm.Normal(\"x1\", 0.0, 1.0, transform=Exp())\n",
        "    x2 = pm.Lognormal(\"x2\", 0.0, 1.0)"
      ],
      "execution_count": null,
      "outputs": []
    },
    {
      "cell_type": "code",
      "metadata": {
        "colab": {
          "base_uri": "https://localhost:8080/",
          "height": 392
        },
        "id": "MI9zuW0WOPX0",
        "outputId": "9334a2fd-99a4-48fa-92a0-5e2b25196d19"
      },
      "source": [
        "\n",
        "\n",
        "figsize(10, 6)\n",
        "\n",
        "lognorm1 = model.named_vars[\"x1_exp__\"]\n",
        "lognorm2 = model.named_vars[\"x2\"]\n",
        "\n",
        "_, ax = plt.subplots(1, 1)\n",
        "x = np.linspace(0.0, 10.0, 100)\n",
        "ax.plot(\n",
        "    x,\n",
        "    np.exp(lognorm1.distribution.logp(x).eval()),\n",
        "    \"--\",\n",
        "    alpha=0.5,\n",
        "    label=\"log(y) ~ Normal(0, 1)\",\n",
        ")\n",
        "ax.plot(\n",
        "    x,\n",
        "    np.exp(lognorm2.distribution.logp(x).eval()),\n",
        "    alpha=0.5,\n",
        "    label=\"y ~ Lognormal(0, 1)\",\n",
        ")\n",
        "plt.legend()"
      ],
      "execution_count": null,
      "outputs": [
        {
          "output_type": "execute_result",
          "data": {
            "text/plain": [
              "<matplotlib.legend.Legend at 0x7f5116406790>"
            ]
          },
          "metadata": {
            "tags": []
          },
          "execution_count": 54
        },
        {
          "output_type": "display_data",
          "data": {
            "image/png": "[encoded data removed]",
            "text/plain": [
              "<Figure size 720x432 with 1 Axes>"
            ]
          },
          "metadata": {
            "tags": [],
            "image/png": {
              "width": 595,
              "height": 357
            },
            "needs_background": "light"
          }
        }
      ]
    },
    {
      "cell_type": "markdown",
      "metadata": {
        "id": "YE2h9bNDFgfZ"
      },
      "source": [
        "## 2.4 MCMC (Markov Chain Monte Carlo)\n",
        "* 実際にPyMC3で事後分布からのサンプリングを行う前に・・・\n",
        "* PyMC3の動作原理であるMCMCについて、大体のところを理解しておく。\n",
        " * 参考資料 https://www.ism.ac.jp/~shiro/papers/2017.05.slides/Iba.pdf"
      ]
    },
    {
      "cell_type": "markdown",
      "metadata": {
        "id": "hXE_bSU4F3wO"
      },
      "source": [
        "### 2.4.1 Monte Carlo近似\n",
        "* ベイズ的モデリングで、事後分布を求めてどうするのか。\n",
        "* 事後分布に関して、何らかの$\\theta$の関数$f(\\theta)$の期待値を計算することが、しばしばある。\n",
        "$$ E_{p(\\theta|X)}[f(\\theta)] = \\int f(\\theta) p(\\theta|X) d\\theta$$\n",
        " * 例えば、$f(\\theta)$として、モデリングで使っている尤度関数$p(x|\\theta)$を持ってくると、上の式は予測分布$p(x|X)$を表すことになる。\n",
        "$$ E_{p(\\theta|X)}[p(x|\\theta)] = \\int p(x|\\theta) p(\\theta|X) d\\theta = p(x|X)$$\n",
        "* 期待値$E_{p(\\theta|X)}[f(\\theta)]$のこの計算を、以下の平均値で近似することを、Monte Carlo近似と呼ぶ。\n",
        "$$ E_{p(\\theta|X)}[f(\\theta)] = \\int f(\\theta) p(\\theta|X) d\\theta \\approx \\frac{1}{S} \\sum_{s=1}^N f(\\theta_s) $$\n",
        "* こういう近似計算をするとき、サンプルは独立に取ったりするが、MCMCでは独立にサンプルを取らない。\n",
        " * MCMCにおいては、次のサンプルは現在のサンプルに依存する確率分布から取られる。"
      ]
    },
    {
      "cell_type": "markdown",
      "metadata": {
        "id": "eDnOmCfmH4Pt"
      },
      "source": [
        "### 2.4.2 Markov Chain\n",
        "* マルコフ連鎖とは、確率変数の列$X_1, X_2, \\ldots$で、以下を満たすもののことを言う。\n",
        "$$P(X_{t+1} = x | X_t=x_t, \\ldots, X_1=x_1) = P(X_{t+1}=x | X_t=x_t) $$\n",
        " * 次の値の出現確率が、直前の値だけに依存する、ということ。\n",
        " * 次の値の出現確率$P(X_{t+1}=x | X_t=x_t)$を、以下、$\\pi(x_t \\rightarrow x)$と書く。\n",
        "* ところで、マルコフ連鎖は、以下の等式を満たす定常分布$P(x)$を持つことがある。\n",
        "$$ \\sum_{x^\\prime} P(x^\\prime) \\pi( x^\\prime \\rightarrow x) = P(x)$$\n",
        " * いくつかの性質を満たしてはじめて、マルコフ連鎖は定常分布を持つ。 \n",
        " * 世界で一番有名な定常分布は、PageRank？\n"
      ]
    },
    {
      "cell_type": "markdown",
      "metadata": {
        "id": "ufmp9117M8ZX"
      },
      "source": [
        "### 2.4.3 MCMCとは？\n",
        "* MCMCは、定常分布が所望の分布になるようなマルコフ連鎖を作るアルゴリズム。\n",
        "* 現在の$x_t$から、次の$x_{t+1}$を\"賢く\"作ると、こうして得られる値の列$\\{x_1,\\ldots,x_M\\}$が、所望の分布からのサンプルになっている。\n",
        "* 実際には、最初の数百個〜数千個のサンプルは捨てる。（捨てる期間を[burn-in](https://www.johndcook.com/blog/2016/01/25/mcmc-burn-in/) periodと呼ぶ。）\n",
        " * 最初の方のサンプルは、高確率な領域からのサンプルになっていない。\n",
        " * そのため、上述のモンテカルロ近似が、あまり良い近似にならない。"
      ]
    },
    {
      "cell_type": "markdown",
      "metadata": {
        "id": "VH8ucr64LXBt"
      },
      "source": [
        "### 2.4.4 詳細釣り合い条件\n",
        "$$ P(x) \\pi (x \\rightarrow x^\\prime) = P(x^\\prime) \\pi (x^\\prime \\rightarrow x)$$\n",
        "* 上の式は、詳細釣り合い条件、あるいは、可逆性条件と呼ばれる。\n",
        "* 詳細釣り合い条件は、$\\pi$で表されるマルコフ連鎖の定常分布が$P(x)$になるための、**十分条件**。\n",
        " * つまり、詳細釣り合い条件なしのMCMCもありうる（これは割愛）。\n"
      ]
    },
    {
      "cell_type": "markdown",
      "metadata": {
        "id": "c08lhEguO6d4"
      },
      "source": [
        "## 2.5 メトロポリス法\n",
        "* メトロポリス法は、詳細釣り合い条件を満たすような$\\pi$を得る一つの方法。"
      ]
    },
    {
      "cell_type": "markdown",
      "metadata": {
        "id": "JQAeigFh4fy5"
      },
      "source": [
        "### 2.5.1 メトロポリス法のアルゴリズム\n",
        "\n",
        "\n",
        "\n",
        "\n",
        "\n"
      ]
    },
    {
      "cell_type": "markdown",
      "metadata": {
        "id": "RLSRKeoTPGfD"
      },
      "source": [
        "1.   今の$x$の次にくる値の候補$x^{new}$を、対称な提案分布$Q(x, x^{new})$に従って生成。\n",
        "2.   一様乱数$0 \\leq r < 1$を発生させる。\n",
        "3.   $r < \\frac{P(x^{new})}{P(x)}$ならば、$x$を$x^{new}$で置き換える。そうでなければ、次の値も今の値と同じ$x$にする。"
      ]
    },
    {
      "cell_type": "markdown",
      "metadata": {
        "id": "ZDWIxXy_PHtv"
      },
      "source": [
        "* ただし、提案分布$Q$が対称とは、$Q(x, x^\\prime) = Q(x^\\prime, x)$が満たされることをいう。\n",
        "* $\\frac{P(x^{new})}{P(x)}$という比は、分布$P$の密度関数が分かっていなくても、密度関数に比例する関数が分かっていれば、計算できる。\n",
        " * 例えば、$P(\\theta|X)$が分かっていなくても、$P(X|\\theta)P(\\theta)$が分かっていれば、計算できる。"
      ]
    },
    {
      "cell_type": "markdown",
      "metadata": {
        "id": "LiIrXUxrPQKA"
      },
      "source": [
        "### 2.5.2 メトロポリス法が詳細釣り合い条件を満たすことの証明"
      ]
    },
    {
      "cell_type": "markdown",
      "metadata": {
        "id": "4HTdTdgp5cYL"
      },
      "source": [
        "* $x$がとりうる２つの値、$\\alpha$および$\\gamma$を考える。\n",
        "* 一般性を失うことなく、$P(\\alpha) < P(\\gamma)$を仮定する。\n",
        "* 今の値が$\\alpha$で、次の値の候補が$\\gamma$であるとき、$1 < \\frac{P(\\gamma)}{P(\\alpha)}$となり、一様乱数の値$r$が何であっても必ず$r < \\frac{P(\\gamma)}{P(\\alpha)}$が満たされる。つまり、候補$\\gamma$は$r$の値によらず採用される。よって、$\\alpha$から$\\gamma$へ遷移する確率$\\pi(\\alpha \\to \\gamma)$は、$Q(\\alpha, \\gamma)$に一致する。\n",
        "* 今の値が$\\gamma$で、次の値の候補が$\\alpha$であるときは、$r < \\frac{P(\\alpha)}{P(\\gamma)}$が成り立たなければ$\\alpha$は採用されない。よって、$\\gamma$から$\\alpha$へ遷移する確率$\\pi(\\gamma \\to \\alpha)$は、$Q(\\gamma, \\alpha) \\times \\frac{P(\\alpha)}{P(\\gamma)}$に一致する。\n",
        "* 詳細釣り合い条件において等式で結ばれている両辺のうち、今の値が$\\alpha$である場合に対応するほうは、$P(\\alpha)\\pi(\\alpha \\to \\gamma)$であり、これは、$P(\\alpha)Q(\\alpha, \\gamma)$となる。\n",
        "* 詳細釣り合い条件において等式で結ばれている両辺のうち、今の値が$\\gamma$である場合に対応するほうは、$P(\\gamma)\\pi(\\gamma \\to \\alpha)$であり、これは、$P(\\gamma)Q(\\gamma, \\alpha) \\times \\frac{P(\\alpha)}{P(\\gamma)} = P(\\alpha) Q(\\gamma, \\alpha)$となる。\n",
        "* 提案分布$Q$は対称だったので、これら両辺は等しくなる。"
      ]
    },
    {
      "cell_type": "markdown",
      "metadata": {
        "id": "WpnxLZDK-vkK"
      },
      "source": [
        "* 以上の議論により、メトロポリス法で得られる$x$の列は、確率分布$P$からのサンプルの列と見なすことができる。"
      ]
    },
    {
      "cell_type": "markdown",
      "metadata": {
        "id": "nALF0Nyw_Emo"
      },
      "source": [
        "* メトロポリス法は、次の値の候補$x^{new}$が採用されないと、前に進まない。\n",
        "* つまり、選んだ提案分布が不味くて、いくら候補をそこから生成させてもほとんどが採用されないと、いくら時間をかけても少ししかサンプルが得られない。\n",
        "* 良い提案分布を選ぶことが重要である！"
      ]
    },
    {
      "cell_type": "markdown",
      "metadata": {
        "id": "OzYFkEg9P3Ql"
      },
      "source": [
        "## 2.6 メトロポリス・ヘイスティングス法\n",
        "* MH法では、非対称な提案分布も使える。\n",
        " * よって、メトロポリス法はMH法の特殊ケースだと言える。"
      ]
    },
    {
      "cell_type": "markdown",
      "metadata": {
        "id": "7-byc12SC6sS"
      },
      "source": [
        "### 2.6.1 メトロポリス・ヘイスティングス法のアルゴリズム \n",
        "\n",
        "\n",
        "1.   今の$x$の次にくる値の候補$x^{new}$を、提案分布$Q(x, x^{new})$に従って生成。\n",
        "2.   一様乱数$0 \\leq r < 1$を発生させる。\n",
        "3.   $r < A(x,x^{new})$ならば、$x$を$x^{new}$で置き換える。そうでなければ、次の値も今の値と同じ$x$にする。ただし、$A(x,x^{new})$は以下のように定義される：\n",
        "\n",
        "$$ A(x,x^{new}) \\equiv \\min \\bigg(1, \\frac{P(x^{new})Q(x^{new}, x)}{P(x) Q(x, x^{new})} \\bigg) $$"
      ]
    }
  ]
}